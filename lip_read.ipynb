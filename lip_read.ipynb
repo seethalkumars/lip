{
 "cells": [
  {
   "cell_type": "markdown",
   "id": "50b489ae-c4f5-4be6-a48e-f3e26ab4a30d",
   "metadata": {},
   "source": [
    "# Install and import dependencies"
   ]
  },
  {
   "cell_type": "code",
   "execution_count": 211,
   "id": "a6fa7a87-b048-455e-8685-e68b7a2c0d47",
   "metadata": {
    "scrolled": true,
    "tags": []
   },
   "outputs": [],
   "source": [
    "%%capture\n",
    "!pip install opencv-python matplotlib imageio gdown tensorflow"
   ]
  },
  {
   "cell_type": "code",
   "execution_count": 212,
   "id": "c9396487-2419-4752-9ec5-f512c3d1e272",
   "metadata": {},
   "outputs": [],
   "source": [
    "import os\n",
    "import cv2\n",
    "import tensorflow as tf\n",
    "import numpy as np\n",
    "from typing import List\n",
    "from matplotlib import pyplot as plt\n",
    "import imageio"
   ]
  },
  {
   "cell_type": "markdown",
   "id": "74266a8b",
   "metadata": {},
   "source": [
    "# Build data loading functions"
   ]
  },
  {
   "cell_type": "code",
   "execution_count": 213,
   "id": "abbce418",
   "metadata": {},
   "outputs": [],
   "source": [
    "import gdown"
   ]
  },
  {
   "cell_type": "code",
   "execution_count": 215,
   "id": "321d2b23",
   "metadata": {
    "scrolled": true,
    "tags": []
   },
   "outputs": [],
   "source": [
    "%%capture\n",
    "# Download the zip file containing the data from Google Drive using its ID\n",
    "url = 'https://drive.google.com/uc?id=1YlvpDLix3S-U8fd-gqRwPcWXAXm8JwjL'\n",
    "output = 'data.zip'\n",
    "# Use gdown library to download the file from the URL and save it to output file\n",
    "gdown.download(url,output,quiet=False)\n",
    "gdown.extractall('data.zip')"
   ]
  },
  {
   "cell_type": "code",
   "execution_count": 216,
   "id": "b6951d13",
   "metadata": {},
   "outputs": [],
   "source": [
    "#This function loads a video from a given path and preprocesses the frames. The function returns a list of preprocessed frames.\n",
    "def load_video(path:str) -> List[float]: \n",
    "    \n",
    "    # Open the video file\n",
    "    cap = cv2.VideoCapture(path)\n",
    "    \n",
    "    # Initialize an empty list to store preprocessed frames\n",
    "    frames = []\n",
    "    \n",
    "    # Iterate through each frame in the video\n",
    "    for _ in range(int(cap.get(cv2.CAP_PROP_FRAME_COUNT))): \n",
    "        ret, frame = cap.read()\n",
    "        \n",
    "        # Convert the frame to grayscale\n",
    "        frame = tf.image.rgb_to_grayscale(frame)\n",
    "        \n",
    "        # Crop the frame to focus only on the lips and append the preprocessed frame to the list\n",
    "        frames.append(frame[190:236,80:220,:])\n",
    "    cap.release()\n",
    "    \n",
    "    # Calculate the mean and standard deviation of the frames\n",
    "    mean = tf.math.reduce_mean(frames)\n",
    "    std = tf.math.reduce_std(tf.cast(frames, tf.float32))\n",
    "    \n",
    "    # Normalize the frames by subtracting the mean and dividing by the standard deviation\n",
    "    return tf.cast((frames - mean), tf.float32) / std\n"
   ]
  },
  {
   "cell_type": "code",
   "execution_count": 217,
   "id": "eabf92f1",
   "metadata": {},
   "outputs": [],
   "source": [
    "#list of major alphabets, numbers and special characters  \n",
    "vocab = [x for x in \"abcdefghijklmnopqrstuvwxyz'?!123456789 \"]\n"
   ]
  },
  {
   "cell_type": "code",
   "execution_count": 218,
   "id": "17ccdb84",
   "metadata": {},
   "outputs": [
    {
     "name": "stdout",
     "output_type": "stream",
     "text": [
      "The vocabulary is: ['', 'a', 'b', 'c', 'd', 'e', 'f', 'g', 'h', 'i', 'j', 'k', 'l', 'm', 'n', 'o', 'p', 'q', 'r', 's', 't', 'u', 'v', 'w', 'x', 'y', 'z', \"'\", '?', '!', '1', '2', '3', '4', '5', '6', '7', '8', '9', ' '] (size =40)\n"
     ]
    }
   ],
   "source": [
    "#Create a StringLookup layer to map characters to integers\n",
    "char_to_num = tf.keras.layers.StringLookup(vocabulary=vocab, oov_token=\"\")\n",
    "#Create a StringLookup layer to map integers back to characters\n",
    "num_to_char = tf.keras.layers.StringLookup(\n",
    "    vocabulary=char_to_num.get_vocabulary(), oov_token=\"\", invert=True\n",
    ")\n",
    "\n",
    "#Print the vocabulary size and content of the StringLookup layer\n",
    "print(\n",
    "    f\"The vocabulary is: {char_to_num.get_vocabulary()} \"\n",
    "    f\"(size ={char_to_num.vocabulary_size()})\"\n",
    ")"
   ]
  },
  {
   "cell_type": "code",
   "execution_count": 219,
   "id": "c4e91e51",
   "metadata": {},
   "outputs": [
    {
     "data": {
      "text/plain": [
       "<tf.Tensor: shape=(5,), dtype=int64, numpy=array([19, 11,  1, 20, 25])>"
      ]
     },
     "execution_count": 219,
     "metadata": {},
     "output_type": "execute_result"
    }
   ],
   "source": [
    "char_to_num(['s','k','a','t','y'])"
   ]
  },
  {
   "cell_type": "code",
   "execution_count": 220,
   "id": "1ebe1d84",
   "metadata": {},
   "outputs": [
    {
     "data": {
      "text/plain": [
       "<tf.Tensor: shape=(5,), dtype=string, numpy=array([b's', b'k', b'a', b't', b'y'], dtype=object)>"
      ]
     },
     "execution_count": 220,
     "metadata": {},
     "output_type": "execute_result"
    }
   ],
   "source": [
    "num_to_char([19, 11,  1, 20, 25])"
   ]
  },
  {
   "cell_type": "code",
   "execution_count": 221,
   "id": "26933b4b",
   "metadata": {},
   "outputs": [],
   "source": [
    "# Define a function to load alignments from a given path\n",
    "def load_alignments(path:str) -> List[str]: \n",
    "    # Open the file in read mode and get all the lines\n",
    "    with open(path, 'r') as f: \n",
    "        lines = f.readlines() \n",
    "        \n",
    "    # Initialize an empty list to hold the tokens    \n",
    "    tokens = []\n",
    "    \n",
    "    # Loop through each line in the file\n",
    "    for line in lines:\n",
    "        line = line.split() # Split the line into a list of words\n",
    "        if line[2] != 'sil': # If the third word in the line is not 'sil'\n",
    "            tokens = [*tokens,' ',line[2]] # Append a space and the third word to the tokens list\n",
    "            \n",
    "    # Split the tokens into individual characters, convert them to numerical values using char_to_num, and return the result\n",
    "    return char_to_num(tf.reshape(tf.strings.unicode_split(tokens, input_encoding='UTF-8'), (-1)))[1:]"
   ]
  },
  {
   "cell_type": "code",
   "execution_count": 222,
   "id": "bc585178",
   "metadata": {},
   "outputs": [],
   "source": [
    "def load_data(path: str): \n",
    "    # Decode path from bytes to string\n",
    "    path = bytes.decode(path.numpy())\n",
    "    # Get the file name from the path and remove the file extension\n",
    "    file_name = path.split('/')[-1].split('.')[0]\n",
    "    # Build paths to video and alignment files\n",
    "    video_path = os.path.join('data','s1',f'{file_name}.mpg')\n",
    "    alignment_path = os.path.join('data','alignments','s1',f'{file_name}.align')\n",
    "    # Load video frames and text alignments\n",
    "    frames = load_video(video_path) \n",
    "    alignments = load_alignments(alignment_path)\n",
    "    \n",
    "    return frames, alignments"
   ]
  },
  {
   "cell_type": "code",
   "execution_count": 223,
   "id": "d5826e3c",
   "metadata": {},
   "outputs": [],
   "source": [
    "test_path = './data/s1/bbal6n.mpg'"
   ]
  },
  {
   "cell_type": "code",
   "execution_count": 224,
   "id": "2968e12c",
   "metadata": {},
   "outputs": [
    {
     "data": {
      "text/plain": [
       "'bbal6n'"
      ]
     },
     "execution_count": 224,
     "metadata": {},
     "output_type": "execute_result"
    }
   ],
   "source": [
    "tf.convert_to_tensor(test_path).numpy().decode('utf-8').split('/')[-1].split('.')[0]"
   ]
  },
  {
   "cell_type": "code",
   "execution_count": 225,
   "id": "65770dc8",
   "metadata": {},
   "outputs": [],
   "source": [
    "frames, alignments = load_data(tf.convert_to_tensor(test_path))"
   ]
  },
  {
   "cell_type": "code",
   "execution_count": 226,
   "id": "b4514ad8",
   "metadata": {},
   "outputs": [
    {
     "data": {
      "text/plain": [
       "<matplotlib.image.AxesImage at 0x7fa8d2cb4760>"
      ]
     },
     "execution_count": 226,
     "metadata": {},
     "output_type": "execute_result"
    },
    {
     "data": {
      "image/png": "[encoded data removed]",
      "text/plain": [
       "<Figure size 640x480 with 1 Axes>"
      ]
     },
     "metadata": {},
     "output_type": "display_data"
    }
   ],
   "source": [
    "plt.imshow(frames[28])"
   ]
  },
  {
   "cell_type": "code",
   "execution_count": 227,
   "id": "0663710b",
   "metadata": {},
   "outputs": [
    {
     "data": {
      "text/plain": [
       "<tf.Tensor: shape=(21,), dtype=int64, numpy=\n",
       "array([ 2,  9, 14, 39,  2, 12, 21,  5, 39,  1, 20, 39, 12, 39, 19,  9, 24,\n",
       "       39, 14, 15, 23])>"
      ]
     },
     "execution_count": 227,
     "metadata": {},
     "output_type": "execute_result"
    }
   ],
   "source": [
    "alignments"
   ]
  },
  {
   "cell_type": "code",
   "execution_count": 228,
   "id": "e8d0ede5",
   "metadata": {},
   "outputs": [
    {
     "data": {
      "text/plain": [
       "'bin blue at l six now'"
      ]
     },
     "execution_count": 228,
     "metadata": {},
     "output_type": "execute_result"
    }
   ],
   "source": [
    "tf.strings.reduce_join([bytes.decode(x) for x in num_to_char(alignments.numpy()).numpy()]).numpy().decode('utf-8')"
   ]
  },
  {
   "cell_type": "code",
   "execution_count": 229,
   "id": "747f9930",
   "metadata": {},
   "outputs": [],
   "source": [
    "def mappable_function(path:str) ->List[str]:\n",
    "    # Call the load_data function using TensorFlow's py_function, which can be used to wrap Python functions \n",
    "    # and make them usable inside a TensorFlow graph. \n",
    "    # This allows us to load and preprocess data in parallel with TensorFlow's data pipeline.\n",
    "    result = tf.py_function(load_data, [path], (tf.float32, tf.int64))\n",
    "    # Return the loaded and preprocessed data\n",
    "    return result"
   ]
  },
  {
   "cell_type": "markdown",
   "id": "e4087aa7",
   "metadata": {},
   "source": [
    "# Create data pipeline"
   ]
  },
  {
   "cell_type": "code",
   "execution_count": 230,
   "id": "0468a579",
   "metadata": {},
   "outputs": [],
   "source": [
    "# Get list of file paths for all videos\n",
    "data = tf.data.Dataset.list_files('./data/s1/*.mpg')\n",
    "# Shuffle the order of the videos\n",
    "data = data.shuffle(500, reshuffle_each_iteration=False)\n",
    "# Map the load_data function to each file path and get frames and alignments\n",
    "data = data.map(mappable_function)\n",
    "# Padded batch of 2 videos, with frames padded to 75 frames and alignments padded to 40 characters\n",
    "data = data.padded_batch(2, padded_shapes=([75,None,None,None],[40]))\n",
    "# Prefetch to optimize for performance\n",
    "data = data.prefetch(tf.data.AUTOTUNE)\n",
    "# Split the data into train and test sets\n",
    "train = data.take(450)\n",
    "test = data.skip(450)"
   ]
  },
  {
   "cell_type": "code",
   "execution_count": 231,
   "id": "93ed1c20-cee0-4763-8c8a-6d66de82d208",
   "metadata": {},
   "outputs": [
    {
     "data": {
      "text/plain": [
       "50"
      ]
     },
     "execution_count": 231,
     "metadata": {},
     "output_type": "execute_result"
    }
   ],
   "source": [
    "len(test)\n"
   ]
  },
  {
   "cell_type": "code",
   "execution_count": 232,
   "id": "cf36ef14",
   "metadata": {},
   "outputs": [],
   "source": [
    "frames, alignments = data.as_numpy_iterator().next()\n"
   ]
  },
  {
   "cell_type": "code",
   "execution_count": 233,
   "id": "f7addd0d",
   "metadata": {},
   "outputs": [
    {
     "data": {
      "text/plain": [
       "2"
      ]
     },
     "execution_count": 233,
     "metadata": {},
     "output_type": "execute_result"
    }
   ],
   "source": [
    "len(frames)\n"
   ]
  },
  {
   "cell_type": "code",
   "execution_count": 234,
   "id": "42dddfa2-54ba-49a4-b5fc-e4aa75ce106e",
   "metadata": {},
   "outputs": [],
   "source": [
    "sample = data.as_numpy_iterator()\n"
   ]
  },
  {
   "cell_type": "code",
   "execution_count": 235,
   "id": "b5a3b9a4-1378-48e0-b076-5f6a5dea6755",
   "metadata": {
    "scrolled": true,
    "tags": []
   },
   "outputs": [],
   "source": [
    "%%capture\n",
    "val = sample.next(); val[0]\n"
   ]
  },
  {
   "cell_type": "code",
   "execution_count": 236,
   "id": "e1650cdc-c77d-4cde-ba67-2d10f4dd5a02",
   "metadata": {
    "scrolled": true,
    "tags": []
   },
   "outputs": [],
   "source": [
    "%%capture\n",
    "#This code saves a gif animation from the frames of a video.\n",
    "imageio.mimsave('./animation.gif', val[0][0], fps=10)"
   ]
  },
  {
   "cell_type": "code",
   "execution_count": 237,
   "id": "504b34f8-dead-47ab-adc6-6219942c1135",
   "metadata": {},
   "outputs": [
    {
     "data": {
      "text/plain": [
       "<matplotlib.image.AxesImage at 0x7fa8d2c68850>"
      ]
     },
     "execution_count": 237,
     "metadata": {},
     "output_type": "execute_result"
    },
    {
     "data": {
      "image/png": "[encoded data removed]",
      "text/plain": [
       "<Figure size 640x480 with 1 Axes>"
      ]
     },
     "metadata": {},
     "output_type": "display_data"
    }
   ],
   "source": [
    "plt.imshow(val[0][0][35])\n"
   ]
  },
  {
   "cell_type": "code",
   "execution_count": 238,
   "id": "5a14a95c-1567-47e0-8d3c-4c63c268f3e8",
   "metadata": {},
   "outputs": [
    {
     "data": {
      "text/plain": [
       "<tf.Tensor: shape=(), dtype=string, numpy=b'bin red at m four please'>"
      ]
     },
     "execution_count": 238,
     "metadata": {},
     "output_type": "execute_result"
    }
   ],
   "source": [
    "tf.strings.reduce_join([num_to_char(word) for word in val[1][0]])\n"
   ]
  },
  {
   "cell_type": "markdown",
   "id": "4e224dcb-3004-49fb-aff0-f23803abe29b",
   "metadata": {},
   "source": [
    "# Design the deep neural network"
   ]
  },
  {
   "cell_type": "code",
   "execution_count": 239,
   "id": "119eae9b-ce08-462b-9b63-ce8cd89ca3a8",
   "metadata": {},
   "outputs": [],
   "source": [
    "from tensorflow.keras.models import Sequential \n",
    "from tensorflow.keras.layers import Conv3D, LSTM, Dense, Dropout, Bidirectional, MaxPool3D, Activation, Reshape, SpatialDropout3D, BatchNormalization, TimeDistributed, Flatten\n",
    "from tensorflow.keras.optimizers import Adam\n",
    "from tensorflow.keras.callbacks import ModelCheckpoint, LearningRateScheduler"
   ]
  },
  {
   "cell_type": "code",
   "execution_count": 240,
   "id": "5ca6784d-4a01-4294-9555-daaac5c6f605",
   "metadata": {},
   "outputs": [
    {
     "data": {
      "text/plain": [
       "(75, 46, 140, 1)"
      ]
     },
     "execution_count": 240,
     "metadata": {},
     "output_type": "execute_result"
    }
   ],
   "source": [
    "data.as_numpy_iterator().next()[0][0].shape\n"
   ]
  },
  {
   "cell_type": "code",
   "execution_count": 241,
   "id": "093a1f33-6059-4b6f-91a0-a2e597ac88d2",
   "metadata": {},
   "outputs": [],
   "source": [
    "model = Sequential()\n",
    "#Add a Conv3D layer with 128 filters, kernel size of 3, and padding of 'same', with input shape of (75,46,140,1)\n",
    "model.add(Conv3D(128, 3, input_shape=(75,46,140,1), padding='same'))\n",
    "model.add(Activation('relu'))\n",
    "#Add a MaxPool3D layer with pool size of (1,2,2)\n",
    "model.add(MaxPool3D((1,2,2)))\n",
    "\n",
    "#Add another Conv3D layer with 256 filters, kernel size of 3, and padding of 'same'\n",
    "model.add(Conv3D(256, 3, padding='same'))\n",
    "model.add(Activation('relu'))\n",
    "model.add(MaxPool3D((1,2,2)))\n",
    "\n",
    "#Add another Conv3D layer with 75 filters, kernel size of 3, and padding of 'same'\n",
    "model.add(Conv3D(75, 3, padding='same'))\n",
    "model.add(Activation('relu'))\n",
    "model.add(MaxPool3D((1,2,2)))\n",
    "\n",
    "#Add a TimeDistributed layer with Flatten\n",
    "model.add(TimeDistributed(Flatten()))\n",
    "\n",
    "#Add a Bidirectional LSTM layer with 128 units, orthogonal kernel initializer, and return_sequences=True\n",
    "model.add(Bidirectional(LSTM(128, kernel_initializer='Orthogonal', return_sequences=True)))\n",
    "model.add(Dropout(.5))\n",
    "\n",
    "model.add(Bidirectional(LSTM(128, kernel_initializer='Orthogonal', return_sequences=True)))\n",
    "model.add(Dropout(.5))\n",
    "\n",
    "#Use a He normal initializer and softmax activation\n",
    "model.add(Dense(char_to_num.vocabulary_size()+1, kernel_initializer='he_normal', activation='softmax'))"
   ]
  },
  {
   "cell_type": "code",
   "execution_count": 242,
   "id": "93662290-c50c-47c2-8273-86e1f6e8a47a",
   "metadata": {},
   "outputs": [
    {
     "name": "stdout",
     "output_type": "stream",
     "text": [
      "Model: \"sequential_5\"\n",
      "_________________________________________________________________\n",
      " Layer (type)                Output Shape              Param #   \n",
      "=================================================================\n",
      " conv3d_15 (Conv3D)          (None, 75, 46, 140, 128)  3584      \n",
      "                                                                 \n",
      " activation_15 (Activation)  (None, 75, 46, 140, 128)  0         \n",
      "                                                                 \n",
      " max_pooling3d_15 (MaxPoolin  (None, 75, 23, 70, 128)  0         \n",
      " g3D)                                                            \n",
      "                                                                 \n",
      " conv3d_16 (Conv3D)          (None, 75, 23, 70, 256)   884992    \n",
      "                                                                 \n",
      " activation_16 (Activation)  (None, 75, 23, 70, 256)   0         \n",
      "                                                                 \n",
      " max_pooling3d_16 (MaxPoolin  (None, 75, 11, 35, 256)  0         \n",
      " g3D)                                                            \n",
      "                                                                 \n",
      " conv3d_17 (Conv3D)          (None, 75, 11, 35, 75)    518475    \n",
      "                                                                 \n",
      " activation_17 (Activation)  (None, 75, 11, 35, 75)    0         \n",
      "                                                                 \n",
      " max_pooling3d_17 (MaxPoolin  (None, 75, 5, 17, 75)    0         \n",
      " g3D)                                                            \n",
      "                                                                 \n",
      " time_distributed_5 (TimeDis  (None, 75, 6375)         0         \n",
      " tributed)                                                       \n",
      "                                                                 \n",
      " bidirectional_10 (Bidirecti  (None, 75, 256)          6660096   \n",
      " onal)                                                           \n",
      "                                                                 \n",
      " dropout_10 (Dropout)        (None, 75, 256)           0         \n",
      "                                                                 \n",
      " bidirectional_11 (Bidirecti  (None, 75, 256)          394240    \n",
      " onal)                                                           \n",
      "                                                                 \n",
      " dropout_11 (Dropout)        (None, 75, 256)           0         \n",
      "                                                                 \n",
      " dense_5 (Dense)             (None, 75, 41)            10537     \n",
      "                                                                 \n",
      "=================================================================\n",
      "Total params: 8,471,924\n",
      "Trainable params: 8,471,924\n",
      "Non-trainable params: 0\n",
      "_________________________________________________________________\n"
     ]
    }
   ],
   "source": [
    "model.summary()"
   ]
  },
  {
   "cell_type": "code",
   "execution_count": 243,
   "id": "737a0f3f-7e1e-49e9-b3ea-badcf57b000f",
   "metadata": {},
   "outputs": [
    {
     "name": "stdout",
     "output_type": "stream",
     "text": [
      "1/1 [==============================] - 8s 8s/step\n"
     ]
    }
   ],
   "source": [
    "yhat = model.predict(val[0])\n"
   ]
  },
  {
   "cell_type": "code",
   "execution_count": 244,
   "id": "a4cb1ed1-b2e5-48c5-b1c1-67640a7a3765",
   "metadata": {},
   "outputs": [
    {
     "data": {
      "text/plain": [
       "<tf.Tensor: shape=(), dtype=string, numpy=b'rr  88888888888888888888888888888888888888888888888                  pppppl'>"
      ]
     },
     "execution_count": 244,
     "metadata": {},
     "output_type": "execute_result"
    }
   ],
   "source": [
    "tf.strings.reduce_join([num_to_char(x) for x in tf.argmax(yhat[0],axis=1)])\n"
   ]
  },
  {
   "cell_type": "code",
   "execution_count": 245,
   "id": "c300b4a8-a2e5-4089-97d3-8aa622209bbe",
   "metadata": {},
   "outputs": [
    {
     "data": {
      "text/plain": [
       "<tf.Tensor: shape=(), dtype=string, numpy=b'rr  88888888888888888888888888888888888888888888888                  pppppl'>"
      ]
     },
     "execution_count": 245,
     "metadata": {},
     "output_type": "execute_result"
    }
   ],
   "source": [
    "tf.strings.reduce_join([num_to_char(tf.argmax(x)) for x in yhat[0]])\n"
   ]
  },
  {
   "cell_type": "markdown",
   "id": "6b12dd17-3cb8-482d-abdd-e1cf174edecc",
   "metadata": {},
   "source": [
    "# Setup training options and train"
   ]
  },
  {
   "cell_type": "code",
   "execution_count": 246,
   "id": "7444361c-e7e5-43d8-bbf4-44eafa4de6c3",
   "metadata": {},
   "outputs": [],
   "source": [
    "#This function defines a learning rate scheduler that decays the learning rate exponentially\n",
    "#after the 30th epoch. The scheduler function takes the epoch number and the current learning rate\n",
    "#as inputs and returns the new learning rate to be used for the next epoch.\n",
    "\n",
    "def scheduler(epoch, lr):\n",
    "    #If the epoch is less than 30, the current learning rate is returned without any modification.\n",
    "    if epoch < 30:\n",
    "        return lr\n",
    "    else:\n",
    "        #After the 30th epoch, the learning rate is multiplied by e^(-0.1) for every subsequent epoch.\n",
    "        return lr * tf.math.exp(-0.1)"
   ]
  },
  {
   "cell_type": "code",
   "execution_count": 247,
   "id": "d7764d9b-f6ab-47e4-8fed-007a3cd0c00a",
   "metadata": {},
   "outputs": [],
   "source": [
    "#This function computes the Connectionist Temporal Classification (CTC) loss between the predicted labels and true labels.\n",
    "#It takes two inputs, y_true and y_pred, which are the true and predicted labels respectively.\n",
    "\n",
    "def CTCLoss(y_true, y_pred):\n",
    "    batch_len = tf.cast(tf.shape(y_true)[0], dtype=\"int64\")\n",
    "    input_length = tf.cast(tf.shape(y_pred)[1], dtype=\"int64\")\n",
    "    label_length = tf.cast(tf.shape(y_true)[1], dtype=\"int64\")\n",
    "\n",
    "    # Create tensors of shape (batch_size, 1) with the input and label lengths\n",
    "    input_length = input_length * tf.ones(shape=(batch_len, 1), dtype=\"int64\")\n",
    "    label_length = label_length * tf.ones(shape=(batch_len, 1), dtype=\"int64\")\n",
    "    \n",
    "    # Compute the CTC loss using the backend function ctc_batch_cost\n",
    "    loss = tf.keras.backend.ctc_batch_cost(y_true, y_pred, input_length, label_length)\n",
    "    return loss"
   ]
  },
  {
   "cell_type": "code",
   "execution_count": 248,
   "id": "fc928c6e-36b2-4829-8f8b-59b5020f2a63",
   "metadata": {},
   "outputs": [],
   "source": [
    "#Define a callback class named ProduceExample which extends tf.keras.callbacks.Callback\n",
    "class ProduceExample(tf.keras.callbacks.Callback): \n",
    "    # Constructor of the callback class, which takes in a dataset as input and initializes it\n",
    "    def __init__(self, dataset) -> None: \n",
    "        self.dataset = dataset.as_numpy_iterator()\n",
    "    \n",
    "    # Callback function which is called at the end of each epoch\n",
    "    def on_epoch_end(self, epoch, logs=None) -> None:\n",
    "        # Get the next batch of data from the dataset iterator\n",
    "        data = self.dataset.next()\n",
    "        # Predict the output for the current batch using the model\n",
    "        yhat = self.model.predict(data[0])\n",
    "        # Decode the predicted output using CTC decoding\n",
    "        decoded = tf.keras.backend.ctc_decode(yhat, [75,75], greedy=False)[0][0].numpy()\n",
    "        # Iterate over each item in the batch\n",
    "        for x in range(len(yhat)):\n",
    "            # Print the original label of the item\n",
    "            print('Original:', tf.strings.reduce_join(num_to_char(data[1][x])).numpy().decode('utf-8'))\n",
    "            # Print the predicted label of the item\n",
    "            print('Prediction:', tf.strings.reduce_join(num_to_char(decoded[x])).numpy().decode('utf-8'))\n",
    "            # Print a line of dashes for better visualization\n",
    "            print('~'*100)"
   ]
  },
  {
   "cell_type": "code",
   "execution_count": 249,
   "id": "56526a99-6ad6-4805-921f-bd4870d89537",
   "metadata": {},
   "outputs": [],
   "source": [
    "#The following code compiles the model with the Adam optimizer and sets the learning rate to 0.0001.\n",
    "#It also sets the loss function to CTCLoss.\n",
    "model.compile(optimizer=Adam(learning_rate=0.0001), loss=CTCLoss)\n"
   ]
  },
  {
   "cell_type": "code",
   "execution_count": 250,
   "id": "8efeeebc-d159-47f9-84a0-dc025e67ca77",
   "metadata": {},
   "outputs": [],
   "source": [
    "checkpoint_callback = ModelCheckpoint(os.path.join('models','checkpoint'), monitor='loss', save_weights_only=True) \n"
   ]
  },
  {
   "cell_type": "code",
   "execution_count": 251,
   "id": "b912d5c1-aee5-4293-a629-a180e1198bb0",
   "metadata": {},
   "outputs": [],
   "source": [
    "schedule_callback = LearningRateScheduler(scheduler)\n"
   ]
  },
  {
   "cell_type": "code",
   "execution_count": 252,
   "id": "6417dabe-4d62-4b9c-8822-3304cec1c510",
   "metadata": {},
   "outputs": [],
   "source": [
    "example_callback = ProduceExample(test)\n"
   ]
  },
  {
   "cell_type": "code",
   "execution_count": 253,
   "id": "a7ef7661-679b-454b-abf5-e0740301485a",
   "metadata": {},
   "outputs": [],
   "source": [
    "#model.fit(train, validation_data=test, epochs=100, callbacks=[checkpoint_callback, schedule_callback, example_callback])\n"
   ]
  },
  {
   "cell_type": "markdown",
   "id": "34ea40d4-30b9-4fe5-96fd-e02fc56c5600",
   "metadata": {},
   "source": [
    "# Make a prediction"
   ]
  },
  {
   "cell_type": "code",
   "execution_count": 254,
   "id": "23a99e6a-1b10-4384-b536-ebd6e9531504",
   "metadata": {},
   "outputs": [
    {
     "name": "stderr",
     "output_type": "stream",
     "text": [
      "Downloading...\n",
      "From: https://drive.google.com/uc?id=1vWscXs4Vt0a_1IH1-ct2TCgXAZT-N3_Y\n",
      "To: /Users/sanjeev/Desktop/lipread/checkpoints.zip\n",
      "100%|██████████████████████████████████████| 94.5M/94.5M [00:07<00:00, 12.3MB/s]\n"
     ]
    },
    {
     "data": {
      "text/plain": [
       "['models/checkpoint.index',\n",
       " 'models/__MACOSX/._checkpoint.index',\n",
       " 'models/checkpoint.data-00000-of-00001',\n",
       " 'models/__MACOSX/._checkpoint.data-00000-of-00001',\n",
       " 'models/checkpoint',\n",
       " 'models/__MACOSX/._checkpoint']"
      ]
     },
     "execution_count": 254,
     "metadata": {},
     "output_type": "execute_result"
    }
   ],
   "source": [
    "# URL to the zip file containing checkpoints\n",
    "url = 'https://drive.google.com/uc?id=1vWscXs4Vt0a_1IH1-ct2TCgXAZT-N3_Y'\n",
    "# Name of the output zip file\n",
    "output = 'checkpoints.zip'\n",
    "# Download the zip file from Google Drive\n",
    "gdown.download(url, output, quiet=False)\n",
    "# Extract the contents of the zip file to the 'models' folder\n",
    "gdown.extractall('checkpoints.zip', 'models')"
   ]
  },
  {
   "cell_type": "code",
   "execution_count": 255,
   "id": "4137d8a4-667a-4fac-bcad-237b9089f964",
   "metadata": {},
   "outputs": [],
   "source": [
    "#model.load_weights('models/checkpoint')\n"
   ]
  },
  {
   "cell_type": "code",
   "execution_count": 256,
   "id": "bf15e444-d175-450e-a8cd-6445dca9b4a4",
   "metadata": {},
   "outputs": [
    {
     "data": {
      "text/plain": [
       "<tensorflow.python.checkpoint.checkpoint.CheckpointLoadStatus at 0x7fa8d78c3d00>"
      ]
     },
     "execution_count": 256,
     "metadata": {},
     "output_type": "execute_result"
    }
   ],
   "source": [
    "from tensorflow.keras.optimizers.legacy import Adam\n",
    "\n",
    "# Create an instance of the same optimizer used during training\n",
    "optimizer = Adam(lr=0.001)\n",
    "\n",
    "# Compile the model with the same optimizer\n",
    "model.compile(loss=CTCLoss, optimizer=optimizer)\n",
    "\n",
    "# Load the saved weights\n",
    "model.load_weights('models/checkpoint')\n"
   ]
  },
  {
   "cell_type": "code",
   "execution_count": 257,
   "id": "09bf2bf3-a96d-45da-9f66-88f23d10a498",
   "metadata": {},
   "outputs": [],
   "source": [
    "test_data = test.as_numpy_iterator()\n"
   ]
  },
  {
   "cell_type": "code",
   "execution_count": 258,
   "id": "b25034f6-e671-4f6e-b605-ad8d247dfab5",
   "metadata": {},
   "outputs": [
    {
     "name": "stderr",
     "output_type": "stream",
     "text": [
      "[mpeg1video @ 0x7fa93491a080] ac-tex damaged at 22 17\n",
      "[mpeg1video @ 0x7fa93491a080] Warning MVs not available\n"
     ]
    }
   ],
   "source": [
    "sample = test_data.next()\n"
   ]
  },
  {
   "cell_type": "code",
   "execution_count": 259,
   "id": "52c2cfd5-4c89-4327-911d-6308d13c8ab1",
   "metadata": {},
   "outputs": [
    {
     "name": "stdout",
     "output_type": "stream",
     "text": [
      "WARNING:tensorflow:5 out of the last 6 calls to <function Model.make_predict_function.<locals>.predict_function at 0x7fa8d78c7040> triggered tf.function retracing. Tracing is expensive and the excessive number of tracings could be due to (1) creating @tf.function repeatedly in a loop, (2) passing tensors with different shapes, (3) passing Python objects instead of tensors. For (1), please define your @tf.function outside of the loop. For (2), @tf.function has reduce_retracing=True option that can avoid unnecessary retracing. For (3), please refer to https://www.tensorflow.org/guide/function#controlling_retracing and https://www.tensorflow.org/api_docs/python/tf/function for  more details.\n",
      "1/1 [==============================] - 9s 9s/step\n"
     ]
    }
   ],
   "source": [
    "yhat = model.predict(sample[0])\n"
   ]
  },
  {
   "cell_type": "code",
   "execution_count": 260,
   "id": "ec31c8c8-47e1-455e-a8ac-40d6bdf38da2",
   "metadata": {},
   "outputs": [
    {
     "name": "stdout",
     "output_type": "stream",
     "text": [
      "~~~~~~~~~~~~~~~~~~~~~~~~~~~~~~~~~~~~~~~~~~~~~~~~~~~~~~~~~~~~~~~~~~~~~~~~~~~~~~~~~~~~~~~~~~~~~~~~~~~~ REAL TEXT\n"
     ]
    },
    {
     "data": {
      "text/plain": [
       "[<tf.Tensor: shape=(), dtype=string, numpy=b'lay red at r two please'>,\n",
       " <tf.Tensor: shape=(), dtype=string, numpy=b'place red with d seven again'>]"
      ]
     },
     "execution_count": 260,
     "metadata": {},
     "output_type": "execute_result"
    }
   ],
   "source": [
    "print('~'*100, 'REAL TEXT')\n",
    "[tf.strings.reduce_join([num_to_char(word) for word in sentence]) for sentence in sample[1]]"
   ]
  },
  {
   "cell_type": "code",
   "execution_count": 261,
   "id": "16be748e-0941-4af4-b0d5-c3313e786c94",
   "metadata": {},
   "outputs": [],
   "source": [
    "decoded = tf.keras.backend.ctc_decode(yhat, input_length=[75,75], greedy=True)[0][0].numpy()\n"
   ]
  },
  {
   "cell_type": "code",
   "execution_count": 262,
   "id": "ee3cc0a8-b26b-4203-a727-e667169a5ab4",
   "metadata": {},
   "outputs": [
    {
     "name": "stdout",
     "output_type": "stream",
     "text": [
      "~~~~~~~~~~~~~~~~~~~~~~~~~~~~~~~~~~~~~~~~~~~~~~~~~~~~~~~~~~~~~~~~~~~~~~~~~~~~~~~~~~~~~~~~~~~~~~~~~~~~ PREDICTIONS\n"
     ]
    },
    {
     "data": {
      "text/plain": [
       "[<tf.Tensor: shape=(), dtype=string, numpy=b'lay red at r two please'>,\n",
       " <tf.Tensor: shape=(), dtype=string, numpy=b'place red with d seven again'>]"
      ]
     },
     "execution_count": 262,
     "metadata": {},
     "output_type": "execute_result"
    }
   ],
   "source": [
    "print('~'*100, 'PREDICTIONS')\n",
    "[tf.strings.reduce_join([num_to_char(word) for word in sentence]) for sentence in decoded]"
   ]
  },
  {
   "cell_type": "markdown",
   "id": "b0c7088e-4dd0-4d15-b53c-3ceebdfb9fea",
   "metadata": {},
   "source": [
    "# Test on a video"
   ]
  },
  {
   "cell_type": "code",
   "execution_count": 263,
   "id": "c9ec986c-a44f-4663-b7d5-802c9bd23ada",
   "metadata": {},
   "outputs": [],
   "source": [
    "sample = load_data(tf.convert_to_tensor('./data/s1/bbaf3s.mpg'))\n"
   ]
  },
  {
   "cell_type": "code",
   "execution_count": 264,
   "id": "4ffeec5c-c24e-460e-90e9-f99f96faaca4",
   "metadata": {},
   "outputs": [
    {
     "name": "stdout",
     "output_type": "stream",
     "text": [
      "~~~~~~~~~~~~~~~~~~~~~~~~~~~~~~~~~~~~~~~~~~~~~~~~~~~~~~~~~~~~~~~~~~~~~~~~~~~~~~~~~~~~~~~~~~~~~~~~~~~~ REAL TEXT\n"
     ]
    },
    {
     "data": {
      "text/plain": [
       "[<tf.Tensor: shape=(), dtype=string, numpy=b'bin blue at f three soon'>]"
      ]
     },
     "execution_count": 264,
     "metadata": {},
     "output_type": "execute_result"
    }
   ],
   "source": [
    "print('~'*100, 'REAL TEXT')\n",
    "[tf.strings.reduce_join([num_to_char(word) for word in sentence]) for sentence in [sample[1]]]"
   ]
  },
  {
   "cell_type": "code",
   "execution_count": 265,
   "id": "1e94c337-b3a4-42dd-a793-04e06898b77b",
   "metadata": {},
   "outputs": [
    {
     "name": "stdout",
     "output_type": "stream",
     "text": [
      "1/1 [==============================] - 4s 4s/step\n"
     ]
    }
   ],
   "source": [
    "yhat = model.predict(tf.expand_dims(sample[0], axis=0))\n"
   ]
  },
  {
   "cell_type": "code",
   "execution_count": 266,
   "id": "d50a0989-211a-44a1-acd0-6df1b4771978",
   "metadata": {},
   "outputs": [],
   "source": [
    "decoded = tf.keras.backend.ctc_decode(yhat, input_length=[75], greedy=True)[0][0].numpy()\n"
   ]
  },
  {
   "cell_type": "code",
   "execution_count": 267,
   "id": "ca361845-8329-461e-a7fd-e1b482c86c43",
   "metadata": {},
   "outputs": [
    {
     "name": "stdout",
     "output_type": "stream",
     "text": [
      "~~~~~~~~~~~~~~~~~~~~~~~~~~~~~~~~~~~~~~~~~~~~~~~~~~~~~~~~~~~~~~~~~~~~~~~~~~~~~~~~~~~~~~~~~~~~~~~~~~~~ PREDICTIONS\n"
     ]
    },
    {
     "data": {
      "text/plain": [
       "[<tf.Tensor: shape=(), dtype=string, numpy=b'bin blue at j three soon'>]"
      ]
     },
     "execution_count": 267,
     "metadata": {},
     "output_type": "execute_result"
    }
   ],
   "source": [
    "print('~'*100, 'PREDICTIONS')\n",
    "[tf.strings.reduce_join([num_to_char(word) for word in sentence]) for sentence in decoded]\n"
   ]
  }
 ],
 "metadata": {
  "kernelspec": {
   "display_name": "lipenv",
   "language": "python",
   "name": "lipenv"
  },
  "language_info": {
   "codemirror_mode": {
    "name": "ipython",
    "version": 3
   },
   "file_extension": ".py",
   "mimetype": "text/x-python",
   "name": "python",
   "nbconvert_exporter": "python",
   "pygments_lexer": "ipython3",
   "version": "3.8.8"
  }
 },
 "nbformat": 4,
 "nbformat_minor": 5
}
